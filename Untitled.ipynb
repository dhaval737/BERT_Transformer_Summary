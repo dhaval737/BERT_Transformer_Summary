{
 "cells": [
  {
   "cell_type": "code",
   "execution_count": 10,
   "id": "proud-stage",
   "metadata": {},
   "outputs": [],
   "source": [
    " def twoSum(nums :list, target: int) :\n",
    "        n=len(num)\n",
    "        result=[]\n",
    "        if n <= 1:\n",
    "            return result\n",
    "        elif n == 2:\n",
    "            if nums[0] + nums[1] == target:\n",
    "                return [0,1]\n",
    "            else:\n",
    "                return result\n",
    "        else:\n",
    "            for i in range(n):\n",
    "                pass\n",
    "            \n",
    "                \n",
    "            "
   ]
  },
  {
   "cell_type": "code",
   "execution_count": null,
   "id": "coral-acceptance",
   "metadata": {},
   "outputs": [],
   "source": []
  }
 ],
 "metadata": {
  "kernelspec": {
   "display_name": "Python 3",
   "language": "python",
   "name": "python3"
  },
  "language_info": {
   "codemirror_mode": {
    "name": "ipython",
    "version": 3
   },
   "file_extension": ".py",
   "mimetype": "text/x-python",
   "name": "python",
   "nbconvert_exporter": "python",
   "pygments_lexer": "ipython3",
   "version": "3.7.7"
  }
 },
 "nbformat": 4,
 "nbformat_minor": 5
}
