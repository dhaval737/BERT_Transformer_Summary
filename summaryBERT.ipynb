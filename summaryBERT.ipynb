{
 "cells": [
  {
   "cell_type": "markdown",
   "id": "bottom-foundation",
   "metadata": {},
   "source": [
    "# Generate Summary BERT\n",
    "\n",
    "This notebook generates summary for the given documents"
   ]
  },
  {
   "cell_type": "code",
   "execution_count": 1,
   "id": "defined-darwin",
   "metadata": {},
   "outputs": [],
   "source": [
    "import torch\n",
    "import os\n",
    "from models.builder import SummarizerLayer\n",
    "from summary import summarize"
   ]
  },
  {
   "cell_type": "code",
   "execution_count": 2,
   "id": "moderate-dancing",
   "metadata": {},
   "outputs": [],
   "source": [
    "model_type = 'bert_base'\n",
    "pretrained = torch.load(f'pretrained/{model_type}.pt', map_location='cpu')\n",
    "model = SummarizerLayer(pretrained=pretrained, bert_type=model_type, device='cpu')"
   ]
  },
  {
   "cell_type": "code",
   "execution_count": 3,
   "id": "permanent-midnight",
   "metadata": {},
   "outputs": [
    {
     "name": "stderr",
     "output_type": "stream",
     "text": [
      "/Users/dhavaldangaria/Documents/Dhaval/stanford/cs224n/Project/cs224nFinalProject/models/network.py:134: UserWarning: masked_fill_ received a mask with dtype torch.uint8, this behavior is now deprecated,please use a mask with dtype torch.bool instead. (Triggered internally at  /Users/distiller/project/conda/conda-bld/pytorch_1595629430416/work/aten/src/ATen/native/TensorAdvancedIndexing.cpp:570.)\n",
      "  scores = scores.masked_fill(mask.byte(), -1e18)\n"
     ]
    }
   ],
   "source": [
    "basepath = \"/Users/dhavaldangaria/Documents/Dhaval/stanford/cs224n/Project/sumo/eval_articles/test\"\n",
    "#basepath = \"/Users/dhavaldangaria/Documents/Dhaval/stanford/cs224n/Project/sumo/Re__doc_table\"\n",
    "for filename in os.listdir(basepath):\n",
    "    if filename.endswith(\".txt\"): \n",
    "        result_fp = \"result_eval_summary/\"+filename.split('.')[0]+\"_summary.txt\"\n",
    "        summary = summarize(basepath+'/'+filename, result_fp, model, maxlength=1000)"
   ]
  },
  {
   "cell_type": "code",
   "execution_count": null,
   "id": "liberal-stake",
   "metadata": {},
   "outputs": [],
   "source": []
  }
 ],
 "metadata": {
  "kernelspec": {
   "display_name": "Python 3",
   "language": "python",
   "name": "python3"
  },
  "language_info": {
   "codemirror_mode": {
    "name": "ipython",
    "version": 3
   },
   "file_extension": ".py",
   "mimetype": "text/x-python",
   "name": "python",
   "nbconvert_exporter": "python",
   "pygments_lexer": "ipython3",
   "version": "3.7.7"
  }
 },
 "nbformat": 4,
 "nbformat_minor": 5
}
